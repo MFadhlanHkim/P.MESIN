{
 "cells": [
  {
   "cell_type": "code",
   "execution_count": 5,
   "id": "e481c45b-7344-455c-8efc-20936d69f0f4",
   "metadata": {},
   "outputs": [],
   "source": [
    "# This Python 3 environment comes with many helpful analytics libraries installed\n",
    "# It is defined by the kaggle/python Docker image: https://github.com/kaggle/docker-python\n",
    "# For example, here's several helpful packages to load\n",
    "\n",
    "import numpy as np # linear algebra\n",
    "import pandas as pd # data processing, CSV file I/O (e.g. pd.read_csv)\n",
    "\n",
    "# Input data files are available in the read-only \"../input/\" directory\n",
    "# For example, running this (by clicking run or pressing Shift+Enter) will list all files under the input directory\n",
    "\n",
    "import os\n",
    "for dirname, _, filenames in os.walk('/kaggle/input'):\n",
    "    for filename in filenames:\n",
    "        print(os.path.join(dirname, filename))\n",
    "\n",
    "# You can write up to 20GB to the current directory (/kaggle/working/) that gets preserved as output when you create a version using \"Save & Run All\" \n",
    "# You can also write temporary files to /kaggle/temp/, but they won't be saved outside of the current session"
   ]
  },
  {
   "cell_type": "code",
   "execution_count": 6,
   "id": "b4be5912-d8f2-4d86-9dc2-bafad5683141",
   "metadata": {},
   "outputs": [
    {
     "name": "stdout",
     "output_type": "stream",
     "text": [
      "Collecting fanalysis\n",
      "  Downloading fanalysis-0.0.1-py3-none-any.whl.metadata (2.0 kB)\n",
      "Requirement already satisfied: numpy>=1.11.0 in c:\\users\\nhqe1\\appdata\\local\\programs\\python\\python312\\lib\\site-packages (from fanalysis) (1.26.4)\n",
      "Requirement already satisfied: matplotlib>=2.0.0 in c:\\users\\nhqe1\\appdata\\local\\programs\\python\\python312\\lib\\site-packages (from fanalysis) (3.8.4)\n",
      "Requirement already satisfied: scikit-learn>=0.18.0 in c:\\users\\nhqe1\\appdata\\local\\programs\\python\\python312\\lib\\site-packages (from fanalysis) (1.4.1.post1)\n",
      "Requirement already satisfied: pandas>=0.19.0 in c:\\users\\nhqe1\\appdata\\local\\programs\\python\\python312\\lib\\site-packages (from fanalysis) (2.2.1)\n",
      "Requirement already satisfied: contourpy>=1.0.1 in c:\\users\\nhqe1\\appdata\\local\\programs\\python\\python312\\lib\\site-packages (from matplotlib>=2.0.0->fanalysis) (1.2.1)\n",
      "Requirement already satisfied: cycler>=0.10 in c:\\users\\nhqe1\\appdata\\local\\programs\\python\\python312\\lib\\site-packages (from matplotlib>=2.0.0->fanalysis) (0.12.1)\n",
      "Requirement already satisfied: fonttools>=4.22.0 in c:\\users\\nhqe1\\appdata\\local\\programs\\python\\python312\\lib\\site-packages (from matplotlib>=2.0.0->fanalysis) (4.51.0)\n",
      "Requirement already satisfied: kiwisolver>=1.3.1 in c:\\users\\nhqe1\\appdata\\local\\programs\\python\\python312\\lib\\site-packages (from matplotlib>=2.0.0->fanalysis) (1.4.5)\n",
      "Requirement already satisfied: packaging>=20.0 in c:\\users\\nhqe1\\appdata\\local\\programs\\python\\python312\\lib\\site-packages (from matplotlib>=2.0.0->fanalysis) (24.0)\n",
      "Requirement already satisfied: pillow>=8 in c:\\users\\nhqe1\\appdata\\local\\programs\\python\\python312\\lib\\site-packages (from matplotlib>=2.0.0->fanalysis) (10.3.0)\n",
      "Requirement already satisfied: pyparsing>=2.3.1 in c:\\users\\nhqe1\\appdata\\local\\programs\\python\\python312\\lib\\site-packages (from matplotlib>=2.0.0->fanalysis) (3.1.2)\n",
      "Requirement already satisfied: python-dateutil>=2.7 in c:\\users\\nhqe1\\appdata\\local\\programs\\python\\python312\\lib\\site-packages (from matplotlib>=2.0.0->fanalysis) (2.9.0.post0)\n",
      "Requirement already satisfied: pytz>=2020.1 in c:\\users\\nhqe1\\appdata\\local\\programs\\python\\python312\\lib\\site-packages (from pandas>=0.19.0->fanalysis) (2024.1)\n",
      "Requirement already satisfied: tzdata>=2022.7 in c:\\users\\nhqe1\\appdata\\local\\programs\\python\\python312\\lib\\site-packages (from pandas>=0.19.0->fanalysis) (2024.1)\n",
      "Requirement already satisfied: scipy>=1.6.0 in c:\\users\\nhqe1\\appdata\\local\\programs\\python\\python312\\lib\\site-packages (from scikit-learn>=0.18.0->fanalysis) (1.12.0)\n",
      "Requirement already satisfied: joblib>=1.2.0 in c:\\users\\nhqe1\\appdata\\local\\programs\\python\\python312\\lib\\site-packages (from scikit-learn>=0.18.0->fanalysis) (1.3.2)\n",
      "Requirement already satisfied: threadpoolctl>=2.0.0 in c:\\users\\nhqe1\\appdata\\local\\programs\\python\\python312\\lib\\site-packages (from scikit-learn>=0.18.0->fanalysis) (3.4.0)\n",
      "Requirement already satisfied: six>=1.5 in c:\\users\\nhqe1\\appdata\\local\\programs\\python\\python312\\lib\\site-packages (from python-dateutil>=2.7->matplotlib>=2.0.0->fanalysis) (1.16.0)\n",
      "Downloading fanalysis-0.0.1-py3-none-any.whl (56 kB)\n",
      "   ---------------------------------------- 0.0/56.3 kB ? eta -:--:--\n",
      "   --------------------- ------------------ 30.7/56.3 kB 640.0 kB/s eta 0:00:01\n",
      "   ---------------------------------------- 56.3/56.3 kB 980.2 kB/s eta 0:00:00\n",
      "Installing collected packages: fanalysis\n",
      "Successfully installed fanalysis-0.0.1\n",
      "Note: you may need to restart the kernel to use updated packages.\n"
     ]
    }
   ],
   "source": [
    "pip install fanalysis"
   ]
  },
  {
   "cell_type": "code",
   "execution_count": 10,
   "id": "64d2607f-42b6-4c2d-9152-5ec98d99d82a",
   "metadata": {},
   "outputs": [],
   "source": [
    "import numpy as np\n",
    "import pandas as pd\n",
    "import matplotlib.pyplot as plt\n",
    "import seaborn as sns\n",
    "%matplotlib inline"
   ]
  },
  {
   "cell_type": "code",
   "execution_count": 12,
   "id": "1a72c3cf-8e15-49dd-a018-40fa924cb765",
   "metadata": {},
   "outputs": [
    {
     "data": {
      "text/html": [
       "<div>\n",
       "<style scoped>\n",
       "    .dataframe tbody tr th:only-of-type {\n",
       "        vertical-align: middle;\n",
       "    }\n",
       "\n",
       "    .dataframe tbody tr th {\n",
       "        vertical-align: top;\n",
       "    }\n",
       "\n",
       "    .dataframe thead th {\n",
       "        text-align: right;\n",
       "    }\n",
       "</style>\n",
       "<table border=\"1\" class=\"dataframe\">\n",
       "  <thead>\n",
       "    <tr style=\"text-align: right;\">\n",
       "      <th></th>\n",
       "      <th>title</th>\n",
       "      <th>views</th>\n",
       "      <th>when</th>\n",
       "    </tr>\n",
       "  </thead>\n",
       "  <tbody>\n",
       "    <tr>\n",
       "      <th>0</th>\n",
       "      <td>College grad challenges Justice Thomas' argume...</td>\n",
       "      <td>2.9K views</td>\n",
       "      <td>19 minutes ago</td>\n",
       "    </tr>\n",
       "    <tr>\n",
       "      <th>2</th>\n",
       "      <td>AI needs 'a new era of law and regulation,' sa...</td>\n",
       "      <td>10K views</td>\n",
       "      <td>9 hours ago</td>\n",
       "    </tr>\n",
       "    <tr>\n",
       "      <th>3</th>\n",
       "      <td>Hear why Pence wanted to meet with Zelensky an...</td>\n",
       "      <td>86K views</td>\n",
       "      <td>16 hours ago</td>\n",
       "    </tr>\n",
       "    <tr>\n",
       "      <th>4</th>\n",
       "      <td>Watch as verdict is read in former Parkland sc...</td>\n",
       "      <td>26K views</td>\n",
       "      <td>21 hours ago</td>\n",
       "    </tr>\n",
       "    <tr>\n",
       "      <th>5</th>\n",
       "      <td>Legal analyst identifies part of ruling that l...</td>\n",
       "      <td>86K views</td>\n",
       "      <td>1 day ago</td>\n",
       "    </tr>\n",
       "  </tbody>\n",
       "</table>\n",
       "</div>"
      ],
      "text/plain": [
       "                                               title       views  \\\n",
       "0  College grad challenges Justice Thomas' argume...  2.9K views   \n",
       "2  AI needs 'a new era of law and regulation,' sa...   10K views   \n",
       "3  Hear why Pence wanted to meet with Zelensky an...   86K views   \n",
       "4  Watch as verdict is read in former Parkland sc...   26K views   \n",
       "5  Legal analyst identifies part of ruling that l...   86K views   \n",
       "\n",
       "             when  \n",
       "0  19 minutes ago  \n",
       "2     9 hours ago  \n",
       "3    16 hours ago  \n",
       "4    21 hours ago  \n",
       "5       1 day ago  "
      ]
     },
     "execution_count": 12,
     "metadata": {},
     "output_type": "execute_result"
    }
   ],
   "source": [
    "data_cnn = pd.read_csv('Uncleaned_Cnn.csv').drop_duplicates()\n",
    "data_cnn.head()"
   ]
  },
  {
   "cell_type": "code",
   "execution_count": 13,
   "id": "6a82ddd4-1549-4d26-96a4-249fa779842a",
   "metadata": {},
   "outputs": [
    {
     "name": "stdout",
     "output_type": "stream",
     "text": [
      "<class 'pandas.core.frame.DataFrame'>\n",
      "Index: 427 entries, 0 to 427\n",
      "Data columns (total 3 columns):\n",
      " #   Column  Non-Null Count  Dtype \n",
      "---  ------  --------------  ----- \n",
      " 0   title   427 non-null    object\n",
      " 1   views   427 non-null    object\n",
      " 2   when    427 non-null    object\n",
      "dtypes: object(3)\n",
      "memory usage: 13.3+ KB\n"
     ]
    }
   ],
   "source": [
    "data_cnn.info()"
   ]
  },
  {
   "cell_type": "code",
   "execution_count": 14,
   "id": "57bdd656-f2c5-4d88-a8a8-535aff5d5fae",
   "metadata": {},
   "outputs": [
    {
     "data": {
      "text/plain": [
       "when\n",
       "3 months ago      99\n",
       "1 month ago       92\n",
       "2 months ago      81\n",
       "4 months ago      66\n",
       "3 weeks ago       22\n",
       "2 weeks ago       18\n",
       "4 weeks ago        7\n",
       "8 days ago         4\n",
       "9 days ago         4\n",
       "3 days ago         4\n",
       "1 day ago          4\n",
       "6 days ago         3\n",
       "7 days ago         3\n",
       "4 days ago         3\n",
       "2 days ago         3\n",
       "5 days ago         2\n",
       "10 days ago        2\n",
       "11 days ago        2\n",
       "12 days ago        2\n",
       "13 days ago        2\n",
       "9 hours ago        1\n",
       "21 hours ago       1\n",
       "16 hours ago       1\n",
       "19 minutes ago     1\n",
       "Name: count, dtype: int64"
      ]
     },
     "execution_count": 14,
     "metadata": {},
     "output_type": "execute_result"
    }
   ],
   "source": [
    "data_cnn['when'].value_counts()"
   ]
  },
  {
   "cell_type": "code",
   "execution_count": 15,
   "id": "7560405d-2fc2-4d12-9987-303053e7f6d1",
   "metadata": {},
   "outputs": [],
   "source": [
    "def month_grouping(date):\n",
    "    if date == '4 months ago':\n",
    "        return '4 months ago'\n",
    "    elif date == '3 months ago':\n",
    "        return '3 months ago'\n",
    "    elif date == '2 months ago':\n",
    "        return '2 months ago'\n",
    "    elif date == '1 month ago':\n",
    "        return '1 months ago'\n",
    "    else:\n",
    "        return 'this month'"
   ]
  },
  {
   "cell_type": "code",
   "execution_count": 16,
   "id": "4930a512-10e6-46fb-bf1f-8546279fa17c",
   "metadata": {},
   "outputs": [
    {
     "data": {
      "text/html": [
       "<div>\n",
       "<style scoped>\n",
       "    .dataframe tbody tr th:only-of-type {\n",
       "        vertical-align: middle;\n",
       "    }\n",
       "\n",
       "    .dataframe tbody tr th {\n",
       "        vertical-align: top;\n",
       "    }\n",
       "\n",
       "    .dataframe thead th {\n",
       "        text-align: right;\n",
       "    }\n",
       "</style>\n",
       "<table border=\"1\" class=\"dataframe\">\n",
       "  <thead>\n",
       "    <tr style=\"text-align: right;\">\n",
       "      <th></th>\n",
       "      <th>title</th>\n",
       "      <th>views</th>\n",
       "      <th>when</th>\n",
       "      <th>month_group</th>\n",
       "    </tr>\n",
       "  </thead>\n",
       "  <tbody>\n",
       "    <tr>\n",
       "      <th>0</th>\n",
       "      <td>College grad challenges Justice Thomas' argume...</td>\n",
       "      <td>2.9K views</td>\n",
       "      <td>19 minutes ago</td>\n",
       "      <td>this month</td>\n",
       "    </tr>\n",
       "    <tr>\n",
       "      <th>2</th>\n",
       "      <td>AI needs 'a new era of law and regulation,' sa...</td>\n",
       "      <td>10K views</td>\n",
       "      <td>9 hours ago</td>\n",
       "      <td>this month</td>\n",
       "    </tr>\n",
       "    <tr>\n",
       "      <th>3</th>\n",
       "      <td>Hear why Pence wanted to meet with Zelensky an...</td>\n",
       "      <td>86K views</td>\n",
       "      <td>16 hours ago</td>\n",
       "      <td>this month</td>\n",
       "    </tr>\n",
       "    <tr>\n",
       "      <th>4</th>\n",
       "      <td>Watch as verdict is read in former Parkland sc...</td>\n",
       "      <td>26K views</td>\n",
       "      <td>21 hours ago</td>\n",
       "      <td>this month</td>\n",
       "    </tr>\n",
       "    <tr>\n",
       "      <th>5</th>\n",
       "      <td>Legal analyst identifies part of ruling that l...</td>\n",
       "      <td>86K views</td>\n",
       "      <td>1 day ago</td>\n",
       "      <td>this month</td>\n",
       "    </tr>\n",
       "  </tbody>\n",
       "</table>\n",
       "</div>"
      ],
      "text/plain": [
       "                                               title       views  \\\n",
       "0  College grad challenges Justice Thomas' argume...  2.9K views   \n",
       "2  AI needs 'a new era of law and regulation,' sa...   10K views   \n",
       "3  Hear why Pence wanted to meet with Zelensky an...   86K views   \n",
       "4  Watch as verdict is read in former Parkland sc...   26K views   \n",
       "5  Legal analyst identifies part of ruling that l...   86K views   \n",
       "\n",
       "             when month_group  \n",
       "0  19 minutes ago  this month  \n",
       "2     9 hours ago  this month  \n",
       "3    16 hours ago  this month  \n",
       "4    21 hours ago  this month  \n",
       "5       1 day ago  this month  "
      ]
     },
     "execution_count": 16,
     "metadata": {},
     "output_type": "execute_result"
    }
   ],
   "source": [
    "data_cnn['month_group'] = data_cnn['when'].apply(lambda x: month_grouping(x))\n",
    "data_cnn.head()"
   ]
  },
  {
   "cell_type": "code",
   "execution_count": 17,
   "id": "8dd71601-fa5c-446a-be5f-a88396db65eb",
   "metadata": {},
   "outputs": [
    {
     "name": "stdout",
     "output_type": "stream",
     "text": [
      "<class 'pandas.core.frame.DataFrame'>\n",
      "Index: 427 entries, 0 to 427\n",
      "Data columns (total 4 columns):\n",
      " #   Column       Non-Null Count  Dtype   \n",
      "---  ------       --------------  -----   \n",
      " 0   title        427 non-null    object  \n",
      " 1   views        427 non-null    object  \n",
      " 2   when         427 non-null    object  \n",
      " 3   month_group  427 non-null    category\n",
      "dtypes: category(1), object(3)\n",
      "memory usage: 14.0+ KB\n"
     ]
    }
   ],
   "source": [
    "data_cnn['month_group'] = pd.Categorical(data_cnn['month_group'], categories=['4 months ago', '3 months ago', '2 months ago', '1 months ago', 'this month'], ordered=True)\n",
    "data_cnn.info()"
   ]
  },
  {
   "cell_type": "code",
   "execution_count": 18,
   "id": "af663756-1976-496d-b118-d1c4cc7d2739",
   "metadata": {},
   "outputs": [],
   "source": [
    "def extract_view(view):\n",
    "    view_num = view.split(' ')[0]\n",
    "    if view_num[-1] == 'M':\n",
    "        view_num = float(view_num.replace('M', '')) * 1000000\n",
    "    elif view_num[-1] == 'K':\n",
    "        view_num = float(view_num.replace('K', '')) * 1000\n",
    "    else:\n",
    "        view_num = float(view_num)\n",
    "    return view_num"
   ]
  },
  {
   "cell_type": "code",
   "execution_count": 19,
   "id": "590cc4e4-2556-4a10-9967-1b4f1f98c43d",
   "metadata": {},
   "outputs": [
    {
     "data": {
      "text/html": [
       "<div>\n",
       "<style scoped>\n",
       "    .dataframe tbody tr th:only-of-type {\n",
       "        vertical-align: middle;\n",
       "    }\n",
       "\n",
       "    .dataframe tbody tr th {\n",
       "        vertical-align: top;\n",
       "    }\n",
       "\n",
       "    .dataframe thead th {\n",
       "        text-align: right;\n",
       "    }\n",
       "</style>\n",
       "<table border=\"1\" class=\"dataframe\">\n",
       "  <thead>\n",
       "    <tr style=\"text-align: right;\">\n",
       "      <th></th>\n",
       "      <th>title</th>\n",
       "      <th>views</th>\n",
       "      <th>when</th>\n",
       "      <th>month_group</th>\n",
       "      <th>views_num</th>\n",
       "    </tr>\n",
       "  </thead>\n",
       "  <tbody>\n",
       "    <tr>\n",
       "      <th>0</th>\n",
       "      <td>College grad challenges Justice Thomas' argume...</td>\n",
       "      <td>2.9K views</td>\n",
       "      <td>19 minutes ago</td>\n",
       "      <td>this month</td>\n",
       "      <td>2900.0</td>\n",
       "    </tr>\n",
       "    <tr>\n",
       "      <th>2</th>\n",
       "      <td>AI needs 'a new era of law and regulation,' sa...</td>\n",
       "      <td>10K views</td>\n",
       "      <td>9 hours ago</td>\n",
       "      <td>this month</td>\n",
       "      <td>10000.0</td>\n",
       "    </tr>\n",
       "    <tr>\n",
       "      <th>3</th>\n",
       "      <td>Hear why Pence wanted to meet with Zelensky an...</td>\n",
       "      <td>86K views</td>\n",
       "      <td>16 hours ago</td>\n",
       "      <td>this month</td>\n",
       "      <td>86000.0</td>\n",
       "    </tr>\n",
       "    <tr>\n",
       "      <th>4</th>\n",
       "      <td>Watch as verdict is read in former Parkland sc...</td>\n",
       "      <td>26K views</td>\n",
       "      <td>21 hours ago</td>\n",
       "      <td>this month</td>\n",
       "      <td>26000.0</td>\n",
       "    </tr>\n",
       "    <tr>\n",
       "      <th>5</th>\n",
       "      <td>Legal analyst identifies part of ruling that l...</td>\n",
       "      <td>86K views</td>\n",
       "      <td>1 day ago</td>\n",
       "      <td>this month</td>\n",
       "      <td>86000.0</td>\n",
       "    </tr>\n",
       "  </tbody>\n",
       "</table>\n",
       "</div>"
      ],
      "text/plain": [
       "                                               title       views  \\\n",
       "0  College grad challenges Justice Thomas' argume...  2.9K views   \n",
       "2  AI needs 'a new era of law and regulation,' sa...   10K views   \n",
       "3  Hear why Pence wanted to meet with Zelensky an...   86K views   \n",
       "4  Watch as verdict is read in former Parkland sc...   26K views   \n",
       "5  Legal analyst identifies part of ruling that l...   86K views   \n",
       "\n",
       "             when month_group  views_num  \n",
       "0  19 minutes ago  this month     2900.0  \n",
       "2     9 hours ago  this month    10000.0  \n",
       "3    16 hours ago  this month    86000.0  \n",
       "4    21 hours ago  this month    26000.0  \n",
       "5       1 day ago  this month    86000.0  "
      ]
     },
     "execution_count": 19,
     "metadata": {},
     "output_type": "execute_result"
    }
   ],
   "source": [
    "data_cnn['views_num'] = data_cnn['views'].apply(lambda x: extract_view(x))\n",
    "data_cnn.head()"
   ]
  },
  {
   "cell_type": "code",
   "execution_count": 20,
   "id": "e3149ddd-3516-4ec3-8d9e-daadcf95d660",
   "metadata": {},
   "outputs": [
    {
     "data": {
      "text/plain": [
       "month_group\n",
       "3 months ago    99\n",
       "1 months ago    92\n",
       "this month      89\n",
       "2 months ago    81\n",
       "4 months ago    66\n",
       "Name: count, dtype: int64"
      ]
     },
     "execution_count": 20,
     "metadata": {},
     "output_type": "execute_result"
    }
   ],
   "source": [
    "data_cnn['month_group'].value_counts()"
   ]
  },
  {
   "cell_type": "code",
   "execution_count": 21,
   "id": "f19545b1-c98a-4eab-9507-2f52ec2ba0cb",
   "metadata": {},
   "outputs": [
    {
     "name": "stderr",
     "output_type": "stream",
     "text": [
      "C:\\Users\\NHQE1\\AppData\\Local\\Temp\\ipykernel_9532\\615635560.py:1: FutureWarning: The default of observed=False is deprecated and will be changed to True in a future version of pandas. Pass observed=False to retain current behavior or observed=True to adopt the future default and silence this warning.\n",
      "  avg_view = data_cnn.groupby('month_group').agg({'views': 'count', 'views_num': 'sum'}).\\\n"
     ]
    },
    {
     "data": {
      "text/html": [
       "<div>\n",
       "<style scoped>\n",
       "    .dataframe tbody tr th:only-of-type {\n",
       "        vertical-align: middle;\n",
       "    }\n",
       "\n",
       "    .dataframe tbody tr th {\n",
       "        vertical-align: top;\n",
       "    }\n",
       "\n",
       "    .dataframe thead th {\n",
       "        text-align: right;\n",
       "    }\n",
       "</style>\n",
       "<table border=\"1\" class=\"dataframe\">\n",
       "  <thead>\n",
       "    <tr style=\"text-align: right;\">\n",
       "      <th></th>\n",
       "      <th>month_group</th>\n",
       "      <th>video_count</th>\n",
       "      <th>views_num</th>\n",
       "      <th>avg_view</th>\n",
       "    </tr>\n",
       "  </thead>\n",
       "  <tbody>\n",
       "    <tr>\n",
       "      <th>0</th>\n",
       "      <td>4 months ago</td>\n",
       "      <td>66</td>\n",
       "      <td>26833000.0</td>\n",
       "      <td>406560.606061</td>\n",
       "    </tr>\n",
       "    <tr>\n",
       "      <th>1</th>\n",
       "      <td>3 months ago</td>\n",
       "      <td>99</td>\n",
       "      <td>39286700.0</td>\n",
       "      <td>396835.353535</td>\n",
       "    </tr>\n",
       "    <tr>\n",
       "      <th>2</th>\n",
       "      <td>2 months ago</td>\n",
       "      <td>81</td>\n",
       "      <td>23998200.0</td>\n",
       "      <td>296274.074074</td>\n",
       "    </tr>\n",
       "    <tr>\n",
       "      <th>3</th>\n",
       "      <td>1 months ago</td>\n",
       "      <td>92</td>\n",
       "      <td>23779000.0</td>\n",
       "      <td>258467.391304</td>\n",
       "    </tr>\n",
       "    <tr>\n",
       "      <th>4</th>\n",
       "      <td>this month</td>\n",
       "      <td>89</td>\n",
       "      <td>21936900.0</td>\n",
       "      <td>246482.022472</td>\n",
       "    </tr>\n",
       "  </tbody>\n",
       "</table>\n",
       "</div>"
      ],
      "text/plain": [
       "    month_group  video_count   views_num       avg_view\n",
       "0  4 months ago           66  26833000.0  406560.606061\n",
       "1  3 months ago           99  39286700.0  396835.353535\n",
       "2  2 months ago           81  23998200.0  296274.074074\n",
       "3  1 months ago           92  23779000.0  258467.391304\n",
       "4    this month           89  21936900.0  246482.022472"
      ]
     },
     "execution_count": 21,
     "metadata": {},
     "output_type": "execute_result"
    }
   ],
   "source": [
    "avg_view = data_cnn.groupby('month_group').agg({'views': 'count', 'views_num': 'sum'}).\\\n",
    "    reset_index()\\\n",
    "    .rename({'views': 'video_count'}, axis=1)\n",
    "avg_view['avg_view'] = avg_view['views_num'] / avg_view['video_count']\n",
    "avg_view"
   ]
  },
  {
   "cell_type": "code",
   "execution_count": 22,
   "id": "48da7397-db17-4139-be20-b0737b31a2c0",
   "metadata": {},
   "outputs": [
    {
     "data": {
      "image/png": "[encoded data removed]",
      "text/plain": [
       "<Figure size 640x480 with 1 Axes>"
      ]
     },
     "metadata": {},
     "output_type": "display_data"
    }
   ],
   "source": [
    "sns.countplot(data=data_cnn, x = 'month_group')\n",
    "plt.xlabel('Month')\n",
    "plt.ylabel('Number of videos')\n",
    "plt.title('Number of videos each months')\n",
    "plt.show()"
   ]
  },
  {
   "cell_type": "code",
   "execution_count": 23,
   "id": "400634d9-65ba-434a-bd72-5d528a9302c2",
   "metadata": {},
   "outputs": [
    {
     "data": {
      "image/png": "[encoded data removed]",
      "text/plain": [
       "<Figure size 640x480 with 1 Axes>"
      ]
     },
     "metadata": {},
     "output_type": "display_data"
    }
   ],
   "source": [
    "sns.barplot(data=avg_view, x = 'month_group', y='views_num', errorbar=('ci', False))\n",
    "plt.xlabel('Month')\n",
    "plt.ylabel('Total views')\n",
    "plt.title('Total views each months')\n",
    "plt.show()"
   ]
  },
  {
   "cell_type": "code",
   "execution_count": 24,
   "id": "2e05872e-ae03-418b-b83d-0990cf1ef50c",
   "metadata": {},
   "outputs": [
    {
     "data": {
      "image/png": "[encoded data removed]",
      "text/plain": [
       "<Figure size 640x480 with 1 Axes>"
      ]
     },
     "metadata": {},
     "output_type": "display_data"
    }
   ],
   "source": [
    "sns.barplot(data=avg_view, x = 'month_group', y='avg_view', errorbar=('ci', False))\n",
    "plt.xlabel('Month')\n",
    "plt.ylabel('Avg views')\n",
    "plt.title('Avg views each months')\n",
    "plt.show()"
   ]
  },
  {
   "cell_type": "code",
   "execution_count": null,
   "id": "709c3d5b-6f3e-43af-89ff-d1b0e01dad9e",
   "metadata": {},
   "outputs": [],
   "source": []
  }
 ],
 "metadata": {
  "kernelspec": {
   "display_name": "Python 3 (ipykernel)",
   "language": "python",
   "name": "python3"
  },
  "language_info": {
   "codemirror_mode": {
    "name": "ipython",
    "version": 3
   },
   "file_extension": ".py",
   "mimetype": "text/x-python",
   "name": "python",
   "nbconvert_exporter": "python",
   "pygments_lexer": "ipython3",
   "version": "3.12.2"
  }
 },
 "nbformat": 4,
 "nbformat_minor": 5
}
