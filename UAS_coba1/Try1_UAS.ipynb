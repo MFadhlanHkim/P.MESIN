{
 "cells": [
  {
   "cell_type": "code",
   "execution_count": 1,
   "id": "06cb4205-90c0-4c56-88e7-49b9b69bc50c",
   "metadata": {},
   "outputs": [],
   "source": [
    "import pandas as pd"
   ]
  },
  {
   "cell_type": "code",
   "execution_count": 2,
   "id": "7c71ee20-fed6-400f-87d0-138a8653fae7",
   "metadata": {},
   "outputs": [],
   "source": [
    "# Membaca dataset\n",
    "df = pd.read_csv('penyakit_menular.csv')"
   ]
  },
  {
   "cell_type": "code",
   "execution_count": 3,
   "id": "1e43037d-cdfc-4176-9b0c-2c7fcffba1d1",
   "metadata": {},
   "outputs": [
    {
     "name": "stdout",
     "output_type": "stream",
     "text": [
      "5 Baris Pertama Dataset:\n",
      "    Nama_Penyakit                                   Gejala  \\\n",
      "0       Influenza                    \"Demam, Batuk, Pilek\"   \n",
      "1        COVID-19              \"Demam, Batuk, Sesak napas\"   \n",
      "2    Tuberkulosis  \"Batuk berdahak, Demam, Keringat malam\"   \n",
      "3         Malaria             \"Demam, Menggigil, Keringat\"   \n",
      "4  Demam Berdarah        \"Demam tinggi, Nyeri sendi, Ruam\"   \n",
      "\n",
      "                     Cara_Penularan  \\\n",
      "0                   \"Tetesan udara\"   \n",
      "1  \"Tetesan udara, Kontak langsung\"   \n",
      "2                   \"Tetesan udara\"   \n",
      "3              \"Penggigitan nyamuk\"   \n",
      "4              \"Penggigitan nyamuk\"   \n",
      "\n",
      "                                          Pencegahan  \\\n",
      "0        \"Vaksinasi, Istirahat, Minum banyak cairan\"   \n",
      "1                    \"Vaksinasi, Masker, Jaga jarak\"   \n",
      "2                    \"Vaksinasi, Menjaga kebersihan\"   \n",
      "3              \"Menghindari gigitan nyamuk, Kelambu\"   \n",
      "4  \"Menghindari gigitan nyamuk, Pemberantasan sar...   \n",
      "\n",
      "                           Pengobatan  \n",
      "0                    \"Obat antivirus\"  \n",
      "1        \"Obat antivirus, Ventilator\"  \n",
      "2                   \"Obat antibiotik\"  \n",
      "3                  \"Obat antimalaria\"  \n",
      "4  \"Cairan infus, Obat penurun demam\"  \n"
     ]
    }
   ],
   "source": [
    "# Menampilkan 5 baris pertama dari dataset\n",
    "print(\"5 Baris Pertama Dataset:\")\n",
    "print(df.head())"
   ]
  },
  {
   "cell_type": "code",
   "execution_count": 4,
   "id": "0c0b16ba-d955-476e-b519-d7c352a5e5ef",
   "metadata": {},
   "outputs": [
    {
     "name": "stdout",
     "output_type": "stream",
     "text": [
      "\n",
      "Informasi Dataset:\n",
      "<class 'pandas.core.frame.DataFrame'>\n",
      "RangeIndex: 8 entries, 0 to 7\n",
      "Data columns (total 5 columns):\n",
      " #   Column          Non-Null Count  Dtype \n",
      "---  ------          --------------  ----- \n",
      " 0   Nama_Penyakit   8 non-null      object\n",
      " 1   Gejala          8 non-null      object\n",
      " 2   Cara_Penularan  8 non-null      object\n",
      " 3   Pencegahan      8 non-null      object\n",
      " 4   Pengobatan      8 non-null      object\n",
      "dtypes: object(5)\n",
      "memory usage: 452.0+ bytes\n",
      "None\n"
     ]
    }
   ],
   "source": [
    "# Informasi umum tentang dataset\n",
    "print(\"\\nInformasi Dataset:\")\n",
    "print(df.info())"
   ]
  },
  {
   "cell_type": "code",
   "execution_count": 5,
   "id": "4c37994f-6b2c-41fd-85d6-69be139aea07",
   "metadata": {},
   "outputs": [
    {
     "name": "stdout",
     "output_type": "stream",
     "text": [
      "\n",
      "Statistik Deskriptif:\n",
      "       Nama_Penyakit                 Gejala   Cara_Penularan  \\\n",
      "count              8                      8                8   \n",
      "unique             8                      8                4   \n",
      "top        Influenza  \"Demam, Batuk, Pilek\"  \"Tetesan udara\"   \n",
      "freq               1                      1                2   \n",
      "\n",
      "                             Pencegahan        Pengobatan  \n",
      "count                                 8                 8  \n",
      "unique                                6                 6  \n",
      "top     \"Vaksinasi, Menjaga kebersihan\"  \"Obat antivirus\"  \n",
      "freq                                  3                 3  \n"
     ]
    }
   ],
   "source": [
    "# Statistik deskriptif dari dataset\n",
    "print(\"\\nStatistik Deskriptif:\")\n",
    "print(df.describe(include='all'))"
   ]
  },
  {
   "cell_type": "code",
   "execution_count": 6,
   "id": "97256817-32a6-4be8-8fa7-81ae8eae3cae",
   "metadata": {},
   "outputs": [
    {
     "name": "stdout",
     "output_type": "stream",
     "text": [
      "\n",
      "Nama Penyakit dalam Dataset:\n",
      "['Influenza' 'COVID-19' 'Tuberkulosis' 'Malaria' 'Demam Berdarah'\n",
      " 'HIV/AIDS' 'Hepatitis B' 'Cacar Air']\n"
     ]
    }
   ],
   "source": [
    "# Menampilkan nama penyakit yang terdapat dalam dataset\n",
    "print(\"\\nNama Penyakit dalam Dataset:\")\n",
    "print(df['Nama_Penyakit'].unique())"
   ]
  },
  {
   "cell_type": "code",
   "execution_count": 7,
   "id": "85c7f7f2-312c-4832-9dd9-d7cb2109fd8a",
   "metadata": {},
   "outputs": [
    {
     "name": "stdout",
     "output_type": "stream",
     "text": [
      "\n",
      "Jumlah Penyakit Berdasarkan Cara Penularan:\n",
      "Cara_Penularan\n",
      "\"Tetesan udara\"                     2\n",
      "\"Tetesan udara, Kontak langsung\"    2\n",
      "\"Penggigitan nyamuk\"                2\n",
      "\"Cairan tubuh\"                      2\n",
      "Name: count, dtype: int64\n"
     ]
    }
   ],
   "source": [
    "# Menghitung jumlah penyakit berdasarkan cara penularan\n",
    "print(\"\\nJumlah Penyakit Berdasarkan Cara Penularan:\")\n",
    "print(df['Cara_Penularan'].value_counts())"
   ]
  }
 ],
 "metadata": {
  "kernelspec": {
   "display_name": "Python 3 (ipykernel)",
   "language": "python",
   "name": "python3"
  },
  "language_info": {
   "codemirror_mode": {
    "name": "ipython",
    "version": 3
   },
   "file_extension": ".py",
   "mimetype": "text/x-python",
   "name": "python",
   "nbconvert_exporter": "python",
   "pygments_lexer": "ipython3",
   "version": "3.12.2"
  }
 },
 "nbformat": 4,
 "nbformat_minor": 5
}
